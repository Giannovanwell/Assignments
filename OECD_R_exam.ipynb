{
 "cells": [
  {
   "cell_type": "markdown",
   "metadata": {},
   "source": [
    "# Exam\n",
    "|name | exam number|\n",
    "|----|----|\n",
    "|Gianno van Well| 2001647|\n",
    "|other group member's name| exam number|\n",
    "\n",
    "In this exam, we will work with the \"frequently requested health data” from the OECD.\n",
    "Your task is to compute a simple “efficiency score” and make three plots. \n",
    "\n",
    "\n",
    "You will earn a higher grade if you provide nicer graphs.  \n"
   ]
  },
  {
   "cell_type": "markdown",
   "metadata": {},
   "source": [
    "Now you need to call the libaries\n",
    "\n",
    "* ggplot2\n",
    "* dplyr\n",
    "\n"
   ]
  },
  {
   "cell_type": "code",
   "execution_count": 3,
   "metadata": {
    "collapsed": false
   },
   "outputs": [],
   "source": [
    "library(ggplot2)\n",
    "library(dplyr)"
   ]
  },
  {
   "cell_type": "markdown",
   "metadata": {},
   "source": [
    "libraries maken staat in de voorbeelden"
   ]
  },
  {
   "cell_type": "markdown",
   "metadata": {},
   "source": [
    "Now you have to read the de data that we have cleaned during tutorial 3. The csv file is called oecddata.csv"
   ]
  },
  {
   "cell_type": "code",
   "execution_count": 7,
   "metadata": {
    "collapsed": false
   },
   "outputs": [],
   "source": [
    "oecd <- read.csv2(\"oecddata.csv\")"
   ]
  },
  {
   "cell_type": "markdown",
   "metadata": {},
   "source": [
    "je moet de data inlezen en ik geef het de naam oecd"
   ]
  },
  {
   "cell_type": "markdown",
   "metadata": {},
   "source": [
    "To see how the data look like, use the command:\n",
    "\n",
    "head(oecd)\n",
    "\n",
    "With the command\n",
    "\n",
    "oecd\n",
    "\n",
    "\n",
    "You can see the dataset in total."
   ]
  },
  {
   "cell_type": "code",
   "execution_count": 10,
   "metadata": {
    "collapsed": false
   },
   "outputs": [
    {
     "data": {
      "text/html": [
       "<table>\n",
       "<thead><tr><th scope=col>X</th><th scope=col>Country</th><th scope=col>Year</th><th scope=col>Cost</th><th scope=col>LE</th></tr></thead>\n",
       "<tbody>\n",
       "\t<tr><td>1        </td><td>Australia</td><td>2005     </td><td>2842.132 </td><td>80.9     </td></tr>\n",
       "\t<tr><td>2        </td><td>Australia</td><td>2006     </td><td>3023.098 </td><td>81.1     </td></tr>\n",
       "\t<tr><td>3        </td><td>Australia</td><td>2007     </td><td>3196.226 </td><td>81.4     </td></tr>\n",
       "\t<tr><td>4        </td><td>Australia</td><td>2008     </td><td>3310.171 </td><td>81.5     </td></tr>\n",
       "\t<tr><td>5        </td><td>Australia</td><td>2009     </td><td>3564.405 </td><td>81.6     </td></tr>\n",
       "\t<tr><td>6        </td><td>Australia</td><td>2010     </td><td>3607.341 </td><td>81.8     </td></tr>\n",
       "</tbody>\n",
       "</table>\n"
      ],
      "text/latex": [
       "\\begin{tabular}{r|lllll}\n",
       " X & Country & Year & Cost & LE\\\\\n",
       "\\hline\n",
       "\t 1         & Australia & 2005      & 2842.132  & 80.9     \\\\\n",
       "\t 2         & Australia & 2006      & 3023.098  & 81.1     \\\\\n",
       "\t 3         & Australia & 2007      & 3196.226  & 81.4     \\\\\n",
       "\t 4         & Australia & 2008      & 3310.171  & 81.5     \\\\\n",
       "\t 5         & Australia & 2009      & 3564.405  & 81.6     \\\\\n",
       "\t 6         & Australia & 2010      & 3607.341  & 81.8     \\\\\n",
       "\\end{tabular}\n"
      ],
      "text/markdown": [
       "\n",
       "X | Country | Year | Cost | LE | \n",
       "|---|---|---|---|---|---|\n",
       "| 1         | Australia | 2005      | 2842.132  | 80.9      | \n",
       "| 2         | Australia | 2006      | 3023.098  | 81.1      | \n",
       "| 3         | Australia | 2007      | 3196.226  | 81.4      | \n",
       "| 4         | Australia | 2008      | 3310.171  | 81.5      | \n",
       "| 5         | Australia | 2009      | 3564.405  | 81.6      | \n",
       "| 6         | Australia | 2010      | 3607.341  | 81.8      | \n",
       "\n",
       "\n"
      ],
      "text/plain": [
       "  X Country   Year Cost     LE  \n",
       "1 1 Australia 2005 2842.132 80.9\n",
       "2 2 Australia 2006 3023.098 81.1\n",
       "3 3 Australia 2007 3196.226 81.4\n",
       "4 4 Australia 2008 3310.171 81.5\n",
       "5 5 Australia 2009 3564.405 81.6\n",
       "6 6 Australia 2010 3607.341 81.8"
      ]
     },
     "metadata": {},
     "output_type": "display_data"
    },
    {
     "data": {
      "text/html": [
       "<table>\n",
       "<thead><tr><th scope=col>X</th><th scope=col>Country</th><th scope=col>Year</th><th scope=col>Cost</th><th scope=col>LE</th></tr></thead>\n",
       "<tbody>\n",
       "\t<tr><td> 1       </td><td>Australia</td><td>2005     </td><td>2842.132 </td><td>80.9     </td></tr>\n",
       "\t<tr><td> 2       </td><td>Australia</td><td>2006     </td><td>3023.098 </td><td>81.1     </td></tr>\n",
       "\t<tr><td> 3       </td><td>Australia</td><td>2007     </td><td>3196.226 </td><td>81.4     </td></tr>\n",
       "\t<tr><td> 4       </td><td>Australia</td><td>2008     </td><td>3310.171 </td><td>81.5     </td></tr>\n",
       "\t<tr><td> 5       </td><td>Australia</td><td>2009     </td><td>3564.405 </td><td>81.6     </td></tr>\n",
       "\t<tr><td> 6       </td><td>Australia</td><td>2010     </td><td>3607.341 </td><td>81.8     </td></tr>\n",
       "\t<tr><td> 7       </td><td>Australia</td><td>2011     </td><td>3794.087 </td><td>82.0     </td></tr>\n",
       "\t<tr><td> 8       </td><td>Australia</td><td>2012     </td><td>3807.682 </td><td>82.1     </td></tr>\n",
       "\t<tr><td> 9       </td><td>Australia</td><td>2013     </td><td>4176.853 </td><td>82.2     </td></tr>\n",
       "\t<tr><td>10       </td><td>Australia</td><td>2014     </td><td>4206.852 </td><td>82.4     </td></tr>\n",
       "\t<tr><td>11       </td><td>Australia</td><td>2015     </td><td>4420.436 </td><td>  NA     </td></tr>\n",
       "\t<tr><td>12       </td><td>Austria  </td><td>2005     </td><td>3324.079 </td><td>79.4     </td></tr>\n",
       "\t<tr><td>13       </td><td>Austria  </td><td>2006     </td><td>3567.649 </td><td>80.0     </td></tr>\n",
       "\t<tr><td>14       </td><td>Austria  </td><td>2007     </td><td>3718.739 </td><td>80.3     </td></tr>\n",
       "\t<tr><td>15       </td><td>Austria  </td><td>2008     </td><td>3964.849 </td><td>80.5     </td></tr>\n",
       "\t<tr><td>16       </td><td>Austria  </td><td>2009     </td><td>4119.745 </td><td>80.4     </td></tr>\n",
       "\t<tr><td>17       </td><td>Austria  </td><td>2010     </td><td>4236.316 </td><td>80.7     </td></tr>\n",
       "\t<tr><td>18       </td><td>Austria  </td><td>2011     </td><td>4362.343 </td><td>81.1     </td></tr>\n",
       "\t<tr><td>19       </td><td>Austria  </td><td>2012     </td><td>4646.436 </td><td>81.0     </td></tr>\n",
       "\t<tr><td>20       </td><td>Austria  </td><td>2013     </td><td>4806.393 </td><td>81.2     </td></tr>\n",
       "\t<tr><td>21       </td><td>Austria  </td><td>2014     </td><td>4895.999 </td><td>81.6     </td></tr>\n",
       "\t<tr><td>22       </td><td>Austria  </td><td>2015     </td><td>5015.637 </td><td>  NA     </td></tr>\n",
       "\t<tr><td>23       </td><td>Belgium  </td><td>2005     </td><td>2985.809 </td><td>79.1     </td></tr>\n",
       "\t<tr><td>24       </td><td>Belgium  </td><td>2006     </td><td>3136.916 </td><td>79.5     </td></tr>\n",
       "\t<tr><td>25       </td><td>Belgium  </td><td>2007     </td><td>3286.225 </td><td>79.9     </td></tr>\n",
       "\t<tr><td>26       </td><td>Belgium  </td><td>2008     </td><td>3542.354 </td><td>79.8     </td></tr>\n",
       "\t<tr><td>27       </td><td>Belgium  </td><td>2009     </td><td>3804.764 </td><td>80.1     </td></tr>\n",
       "\t<tr><td>28       </td><td>Belgium  </td><td>2010     </td><td>3901.913 </td><td>80.3     </td></tr>\n",
       "\t<tr><td>29       </td><td>Belgium  </td><td>2011     </td><td>4132.311 </td><td>80.7     </td></tr>\n",
       "\t<tr><td>30       </td><td>Belgium  </td><td>2012     </td><td>4286.412 </td><td>80.5     </td></tr>\n",
       "\t<tr><td>...</td><td>...</td><td>...</td><td>...</td><td>...</td></tr>\n",
       "\t<tr><td>356           </td><td>Turkey        </td><td>2008          </td><td> 827.3149     </td><td>73.9          </td></tr>\n",
       "\t<tr><td>357           </td><td>Turkey        </td><td>2009          </td><td> 841.2871     </td><td>74.1          </td></tr>\n",
       "\t<tr><td>358           </td><td>Turkey        </td><td>2010          </td><td> 852.6704     </td><td>74.3          </td></tr>\n",
       "\t<tr><td>359           </td><td>Turkey        </td><td>2011          </td><td> 887.9525     </td><td>74.6          </td></tr>\n",
       "\t<tr><td>360           </td><td>Turkey        </td><td>2012          </td><td> 911.2930     </td><td>74.6          </td></tr>\n",
       "\t<tr><td>361           </td><td>Turkey        </td><td>2013          </td><td> 969.3608     </td><td>78.0          </td></tr>\n",
       "\t<tr><td>362           </td><td>Turkey        </td><td>2014          </td><td> 990.1908     </td><td>78.0          </td></tr>\n",
       "\t<tr><td>363           </td><td>Turkey        </td><td>2015          </td><td>1063.5506     </td><td>  NA          </td></tr>\n",
       "\t<tr><td>364           </td><td>United Kingdom</td><td>2005          </td><td>2568.4680     </td><td>79.2          </td></tr>\n",
       "\t<tr><td>365           </td><td>United Kingdom</td><td>2006          </td><td>2784.4890     </td><td>79.5          </td></tr>\n",
       "\t<tr><td>366           </td><td>United Kingdom</td><td>2007          </td><td>2862.4300     </td><td>79.7          </td></tr>\n",
       "\t<tr><td>367           </td><td>United Kingdom</td><td>2008          </td><td>2971.1540     </td><td>79.8          </td></tr>\n",
       "\t<tr><td>368           </td><td>United Kingdom</td><td>2009          </td><td>3150.2390     </td><td>80.4          </td></tr>\n",
       "\t<tr><td>369           </td><td>United Kingdom</td><td>2010          </td><td>3036.1200     </td><td>80.6          </td></tr>\n",
       "\t<tr><td>370           </td><td>United Kingdom</td><td>2011          </td><td>3087.3060     </td><td>81.0          </td></tr>\n",
       "\t<tr><td>371           </td><td>United Kingdom</td><td>2012          </td><td>3191.9360     </td><td>81.0          </td></tr>\n",
       "\t<tr><td>372           </td><td>United Kingdom</td><td>2013          </td><td>3881.0900     </td><td>81.1          </td></tr>\n",
       "\t<tr><td>373           </td><td>United Kingdom</td><td>2014          </td><td>3971.3940     </td><td>81.4          </td></tr>\n",
       "\t<tr><td>374           </td><td>United Kingdom</td><td>2015          </td><td>4003.0024     </td><td>  NA          </td></tr>\n",
       "\t<tr><td>375           </td><td>United States </td><td>2005          </td><td>6445.7053     </td><td>77.4          </td></tr>\n",
       "\t<tr><td>376           </td><td>United States </td><td>2006          </td><td>6809.4762     </td><td>77.7          </td></tr>\n",
       "\t<tr><td>377           </td><td>United States </td><td>2007          </td><td>7163.1718     </td><td>77.9          </td></tr>\n",
       "\t<tr><td>378           </td><td>United States </td><td>2008          </td><td>7414.0435     </td><td>78.1          </td></tr>\n",
       "\t<tr><td>379           </td><td>United States </td><td>2009          </td><td>7684.7611     </td><td>78.5          </td></tr>\n",
       "\t<tr><td>380           </td><td>United States </td><td>2010          </td><td>7929.3720     </td><td>78.6          </td></tr>\n",
       "\t<tr><td>381           </td><td>United States </td><td>2011          </td><td>8171.0784     </td><td>78.7          </td></tr>\n",
       "\t<tr><td>382           </td><td>United States </td><td>2012          </td><td>8422.9900     </td><td>78.8          </td></tr>\n",
       "\t<tr><td>383           </td><td>United States </td><td>2013          </td><td>8617.4287     </td><td>78.8          </td></tr>\n",
       "\t<tr><td>384           </td><td>United States </td><td>2014          </td><td>9024.2064     </td><td>78.8          </td></tr>\n",
       "\t<tr><td>385           </td><td>United States </td><td>2015          </td><td>9451.3423     </td><td>  NA          </td></tr>\n",
       "</tbody>\n",
       "</table>\n"
      ],
      "text/latex": [
       "\\begin{tabular}{r|lllll}\n",
       " X & Country & Year & Cost & LE\\\\\n",
       "\\hline\n",
       "\t  1        & Australia & 2005      & 2842.132  & 80.9     \\\\\n",
       "\t  2        & Australia & 2006      & 3023.098  & 81.1     \\\\\n",
       "\t  3        & Australia & 2007      & 3196.226  & 81.4     \\\\\n",
       "\t  4        & Australia & 2008      & 3310.171  & 81.5     \\\\\n",
       "\t  5        & Australia & 2009      & 3564.405  & 81.6     \\\\\n",
       "\t  6        & Australia & 2010      & 3607.341  & 81.8     \\\\\n",
       "\t  7        & Australia & 2011      & 3794.087  & 82.0     \\\\\n",
       "\t  8        & Australia & 2012      & 3807.682  & 82.1     \\\\\n",
       "\t  9        & Australia & 2013      & 4176.853  & 82.2     \\\\\n",
       "\t 10        & Australia & 2014      & 4206.852  & 82.4     \\\\\n",
       "\t 11        & Australia & 2015      & 4420.436  &   NA     \\\\\n",
       "\t 12        & Austria   & 2005      & 3324.079  & 79.4     \\\\\n",
       "\t 13        & Austria   & 2006      & 3567.649  & 80.0     \\\\\n",
       "\t 14        & Austria   & 2007      & 3718.739  & 80.3     \\\\\n",
       "\t 15        & Austria   & 2008      & 3964.849  & 80.5     \\\\\n",
       "\t 16        & Austria   & 2009      & 4119.745  & 80.4     \\\\\n",
       "\t 17        & Austria   & 2010      & 4236.316  & 80.7     \\\\\n",
       "\t 18        & Austria   & 2011      & 4362.343  & 81.1     \\\\\n",
       "\t 19        & Austria   & 2012      & 4646.436  & 81.0     \\\\\n",
       "\t 20        & Austria   & 2013      & 4806.393  & 81.2     \\\\\n",
       "\t 21        & Austria   & 2014      & 4895.999  & 81.6     \\\\\n",
       "\t 22        & Austria   & 2015      & 5015.637  &   NA     \\\\\n",
       "\t 23        & Belgium   & 2005      & 2985.809  & 79.1     \\\\\n",
       "\t 24        & Belgium   & 2006      & 3136.916  & 79.5     \\\\\n",
       "\t 25        & Belgium   & 2007      & 3286.225  & 79.9     \\\\\n",
       "\t 26        & Belgium   & 2008      & 3542.354  & 79.8     \\\\\n",
       "\t 27        & Belgium   & 2009      & 3804.764  & 80.1     \\\\\n",
       "\t 28        & Belgium   & 2010      & 3901.913  & 80.3     \\\\\n",
       "\t 29        & Belgium   & 2011      & 4132.311  & 80.7     \\\\\n",
       "\t 30        & Belgium   & 2012      & 4286.412  & 80.5     \\\\\n",
       "\t ... & ... & ... & ... & ...\\\\\n",
       "\t 356            & Turkey         & 2008           &  827.3149      & 73.9          \\\\\n",
       "\t 357            & Turkey         & 2009           &  841.2871      & 74.1          \\\\\n",
       "\t 358            & Turkey         & 2010           &  852.6704      & 74.3          \\\\\n",
       "\t 359            & Turkey         & 2011           &  887.9525      & 74.6          \\\\\n",
       "\t 360            & Turkey         & 2012           &  911.2930      & 74.6          \\\\\n",
       "\t 361            & Turkey         & 2013           &  969.3608      & 78.0          \\\\\n",
       "\t 362            & Turkey         & 2014           &  990.1908      & 78.0          \\\\\n",
       "\t 363            & Turkey         & 2015           & 1063.5506      &   NA          \\\\\n",
       "\t 364            & United Kingdom & 2005           & 2568.4680      & 79.2          \\\\\n",
       "\t 365            & United Kingdom & 2006           & 2784.4890      & 79.5          \\\\\n",
       "\t 366            & United Kingdom & 2007           & 2862.4300      & 79.7          \\\\\n",
       "\t 367            & United Kingdom & 2008           & 2971.1540      & 79.8          \\\\\n",
       "\t 368            & United Kingdom & 2009           & 3150.2390      & 80.4          \\\\\n",
       "\t 369            & United Kingdom & 2010           & 3036.1200      & 80.6          \\\\\n",
       "\t 370            & United Kingdom & 2011           & 3087.3060      & 81.0          \\\\\n",
       "\t 371            & United Kingdom & 2012           & 3191.9360      & 81.0          \\\\\n",
       "\t 372            & United Kingdom & 2013           & 3881.0900      & 81.1          \\\\\n",
       "\t 373            & United Kingdom & 2014           & 3971.3940      & 81.4          \\\\\n",
       "\t 374            & United Kingdom & 2015           & 4003.0024      &   NA          \\\\\n",
       "\t 375            & United States  & 2005           & 6445.7053      & 77.4          \\\\\n",
       "\t 376            & United States  & 2006           & 6809.4762      & 77.7          \\\\\n",
       "\t 377            & United States  & 2007           & 7163.1718      & 77.9          \\\\\n",
       "\t 378            & United States  & 2008           & 7414.0435      & 78.1          \\\\\n",
       "\t 379            & United States  & 2009           & 7684.7611      & 78.5          \\\\\n",
       "\t 380            & United States  & 2010           & 7929.3720      & 78.6          \\\\\n",
       "\t 381            & United States  & 2011           & 8171.0784      & 78.7          \\\\\n",
       "\t 382            & United States  & 2012           & 8422.9900      & 78.8          \\\\\n",
       "\t 383            & United States  & 2013           & 8617.4287      & 78.8          \\\\\n",
       "\t 384            & United States  & 2014           & 9024.2064      & 78.8          \\\\\n",
       "\t 385            & United States  & 2015           & 9451.3423      &   NA          \\\\\n",
       "\\end{tabular}\n"
      ],
      "text/markdown": [
       "\n",
       "X | Country | Year | Cost | LE | \n",
       "|---|---|---|---|---|---|---|---|---|---|---|---|---|---|---|---|---|---|---|---|---|---|---|---|---|---|---|---|---|---|---|---|---|---|---|---|---|---|---|---|---|---|---|---|---|---|---|---|---|---|---|---|---|---|---|---|---|---|---|---|---|\n",
       "|  1        | Australia | 2005      | 2842.132  | 80.9      | \n",
       "|  2        | Australia | 2006      | 3023.098  | 81.1      | \n",
       "|  3        | Australia | 2007      | 3196.226  | 81.4      | \n",
       "|  4        | Australia | 2008      | 3310.171  | 81.5      | \n",
       "|  5        | Australia | 2009      | 3564.405  | 81.6      | \n",
       "|  6        | Australia | 2010      | 3607.341  | 81.8      | \n",
       "|  7        | Australia | 2011      | 3794.087  | 82.0      | \n",
       "|  8        | Australia | 2012      | 3807.682  | 82.1      | \n",
       "|  9        | Australia | 2013      | 4176.853  | 82.2      | \n",
       "| 10        | Australia | 2014      | 4206.852  | 82.4      | \n",
       "| 11        | Australia | 2015      | 4420.436  |   NA      | \n",
       "| 12        | Austria   | 2005      | 3324.079  | 79.4      | \n",
       "| 13        | Austria   | 2006      | 3567.649  | 80.0      | \n",
       "| 14        | Austria   | 2007      | 3718.739  | 80.3      | \n",
       "| 15        | Austria   | 2008      | 3964.849  | 80.5      | \n",
       "| 16        | Austria   | 2009      | 4119.745  | 80.4      | \n",
       "| 17        | Austria   | 2010      | 4236.316  | 80.7      | \n",
       "| 18        | Austria   | 2011      | 4362.343  | 81.1      | \n",
       "| 19        | Austria   | 2012      | 4646.436  | 81.0      | \n",
       "| 20        | Austria   | 2013      | 4806.393  | 81.2      | \n",
       "| 21        | Austria   | 2014      | 4895.999  | 81.6      | \n",
       "| 22        | Austria   | 2015      | 5015.637  |   NA      | \n",
       "| 23        | Belgium   | 2005      | 2985.809  | 79.1      | \n",
       "| 24        | Belgium   | 2006      | 3136.916  | 79.5      | \n",
       "| 25        | Belgium   | 2007      | 3286.225  | 79.9      | \n",
       "| 26        | Belgium   | 2008      | 3542.354  | 79.8      | \n",
       "| 27        | Belgium   | 2009      | 3804.764  | 80.1      | \n",
       "| 28        | Belgium   | 2010      | 3901.913  | 80.3      | \n",
       "| 29        | Belgium   | 2011      | 4132.311  | 80.7      | \n",
       "| 30        | Belgium   | 2012      | 4286.412  | 80.5      | \n",
       "| ... | ... | ... | ... | ... | \n",
       "| 356            | Turkey         | 2008           |  827.3149      | 73.9           | \n",
       "| 357            | Turkey         | 2009           |  841.2871      | 74.1           | \n",
       "| 358            | Turkey         | 2010           |  852.6704      | 74.3           | \n",
       "| 359            | Turkey         | 2011           |  887.9525      | 74.6           | \n",
       "| 360            | Turkey         | 2012           |  911.2930      | 74.6           | \n",
       "| 361            | Turkey         | 2013           |  969.3608      | 78.0           | \n",
       "| 362            | Turkey         | 2014           |  990.1908      | 78.0           | \n",
       "| 363            | Turkey         | 2015           | 1063.5506      |   NA           | \n",
       "| 364            | United Kingdom | 2005           | 2568.4680      | 79.2           | \n",
       "| 365            | United Kingdom | 2006           | 2784.4890      | 79.5           | \n",
       "| 366            | United Kingdom | 2007           | 2862.4300      | 79.7           | \n",
       "| 367            | United Kingdom | 2008           | 2971.1540      | 79.8           | \n",
       "| 368            | United Kingdom | 2009           | 3150.2390      | 80.4           | \n",
       "| 369            | United Kingdom | 2010           | 3036.1200      | 80.6           | \n",
       "| 370            | United Kingdom | 2011           | 3087.3060      | 81.0           | \n",
       "| 371            | United Kingdom | 2012           | 3191.9360      | 81.0           | \n",
       "| 372            | United Kingdom | 2013           | 3881.0900      | 81.1           | \n",
       "| 373            | United Kingdom | 2014           | 3971.3940      | 81.4           | \n",
       "| 374            | United Kingdom | 2015           | 4003.0024      |   NA           | \n",
       "| 375            | United States  | 2005           | 6445.7053      | 77.4           | \n",
       "| 376            | United States  | 2006           | 6809.4762      | 77.7           | \n",
       "| 377            | United States  | 2007           | 7163.1718      | 77.9           | \n",
       "| 378            | United States  | 2008           | 7414.0435      | 78.1           | \n",
       "| 379            | United States  | 2009           | 7684.7611      | 78.5           | \n",
       "| 380            | United States  | 2010           | 7929.3720      | 78.6           | \n",
       "| 381            | United States  | 2011           | 8171.0784      | 78.7           | \n",
       "| 382            | United States  | 2012           | 8422.9900      | 78.8           | \n",
       "| 383            | United States  | 2013           | 8617.4287      | 78.8           | \n",
       "| 384            | United States  | 2014           | 9024.2064      | 78.8           | \n",
       "| 385            | United States  | 2015           | 9451.3423      |   NA           | \n",
       "\n",
       "\n"
      ],
      "text/plain": [
       "    X   Country        Year Cost      LE  \n",
       "1    1  Australia      2005 2842.132  80.9\n",
       "2    2  Australia      2006 3023.098  81.1\n",
       "3    3  Australia      2007 3196.226  81.4\n",
       "4    4  Australia      2008 3310.171  81.5\n",
       "5    5  Australia      2009 3564.405  81.6\n",
       "6    6  Australia      2010 3607.341  81.8\n",
       "7    7  Australia      2011 3794.087  82.0\n",
       "8    8  Australia      2012 3807.682  82.1\n",
       "9    9  Australia      2013 4176.853  82.2\n",
       "10  10  Australia      2014 4206.852  82.4\n",
       "11  11  Australia      2015 4420.436    NA\n",
       "12  12  Austria        2005 3324.079  79.4\n",
       "13  13  Austria        2006 3567.649  80.0\n",
       "14  14  Austria        2007 3718.739  80.3\n",
       "15  15  Austria        2008 3964.849  80.5\n",
       "16  16  Austria        2009 4119.745  80.4\n",
       "17  17  Austria        2010 4236.316  80.7\n",
       "18  18  Austria        2011 4362.343  81.1\n",
       "19  19  Austria        2012 4646.436  81.0\n",
       "20  20  Austria        2013 4806.393  81.2\n",
       "21  21  Austria        2014 4895.999  81.6\n",
       "22  22  Austria        2015 5015.637    NA\n",
       "23  23  Belgium        2005 2985.809  79.1\n",
       "24  24  Belgium        2006 3136.916  79.5\n",
       "25  25  Belgium        2007 3286.225  79.9\n",
       "26  26  Belgium        2008 3542.354  79.8\n",
       "27  27  Belgium        2009 3804.764  80.1\n",
       "28  28  Belgium        2010 3901.913  80.3\n",
       "29  29  Belgium        2011 4132.311  80.7\n",
       "30  30  Belgium        2012 4286.412  80.5\n",
       "... ... ...            ...  ...       ... \n",
       "356 356 Turkey         2008  827.3149 73.9\n",
       "357 357 Turkey         2009  841.2871 74.1\n",
       "358 358 Turkey         2010  852.6704 74.3\n",
       "359 359 Turkey         2011  887.9525 74.6\n",
       "360 360 Turkey         2012  911.2930 74.6\n",
       "361 361 Turkey         2013  969.3608 78.0\n",
       "362 362 Turkey         2014  990.1908 78.0\n",
       "363 363 Turkey         2015 1063.5506   NA\n",
       "364 364 United Kingdom 2005 2568.4680 79.2\n",
       "365 365 United Kingdom 2006 2784.4890 79.5\n",
       "366 366 United Kingdom 2007 2862.4300 79.7\n",
       "367 367 United Kingdom 2008 2971.1540 79.8\n",
       "368 368 United Kingdom 2009 3150.2390 80.4\n",
       "369 369 United Kingdom 2010 3036.1200 80.6\n",
       "370 370 United Kingdom 2011 3087.3060 81.0\n",
       "371 371 United Kingdom 2012 3191.9360 81.0\n",
       "372 372 United Kingdom 2013 3881.0900 81.1\n",
       "373 373 United Kingdom 2014 3971.3940 81.4\n",
       "374 374 United Kingdom 2015 4003.0024   NA\n",
       "375 375 United States  2005 6445.7053 77.4\n",
       "376 376 United States  2006 6809.4762 77.7\n",
       "377 377 United States  2007 7163.1718 77.9\n",
       "378 378 United States  2008 7414.0435 78.1\n",
       "379 379 United States  2009 7684.7611 78.5\n",
       "380 380 United States  2010 7929.3720 78.6\n",
       "381 381 United States  2011 8171.0784 78.7\n",
       "382 382 United States  2012 8422.9900 78.8\n",
       "383 383 United States  2013 8617.4287 78.8\n",
       "384 384 United States  2014 9024.2064 78.8\n",
       "385 385 United States  2015 9451.3423   NA"
      ]
     },
     "metadata": {},
     "output_type": "display_data"
    }
   ],
   "source": [
    "head(oecd)\n",
    "oecd"
   ]
  },
  {
   "cell_type": "markdown",
   "metadata": {},
   "source": [
    "## Graphs"
   ]
  },
  {
   "cell_type": "markdown",
   "metadata": {},
   "source": [
    "To make the graphs we need to make selections of the data. Please use \"dplyr\" (commands \"select\" and \"filter\") and the \"pipe\". The first assignment is to make a scatterplot using \"ggplot\". The graph contains data for all countries for the year 2014. Therefore make a dataframe with dplyr first, called \"graph1\" with the required data.\n",
    "Then, make a scatterplot with \"Cost\" on the x-axis and \"LE\" on the y-axis. You have to add a regression line with a shaded area for the confidence interval."
   ]
  },
  {
   "cell_type": "code",
   "execution_count": 9,
   "metadata": {
    "collapsed": false
   },
   "outputs": [
    {
     "name": "stderr",
     "output_type": "stream",
     "text": [
      "Warning message:\n",
      "\"Removed 1 rows containing non-finite values (stat_smooth).\"Warning message:\n",
      "\"Removed 1 rows containing missing values (geom_point).\""
     ]
    },
    {
     "data": {},
     "metadata": {},
     "output_type": "display_data"
    },
    {
     "data": {
      "image/png": "[encoded data removed]",
      "text/plain": [
       "plot without title"
      ]
     },
     "metadata": {},
     "output_type": "display_data"
    }
   ],
   "source": [
    "graph1 <- filter(oecd, Year %in% c('2014'))\n",
    "ggplot(graph1, aes(x = Cost, y = LE)) + geom_point() + geom_smooth(method=lm)"
   ]
  },
  {
   "cell_type": "markdown",
   "metadata": {},
   "source": [
    "in de tutorials heb ik gekeken hoe ik graphs moest maken. Bij deze opdracht heb ik gewoonweg goed overgenomen hoe het in de tutorial uitgelegd stond."
   ]
  },
  {
   "cell_type": "markdown",
   "metadata": {
    "collapsed": true
   },
   "source": [
    "The second assignment is to make a line graph. You will use the years 2005-2015 for 5 countries (you can choose your own countries). Make a new dataframe called graph2 with the required data. Then, make a line graph with \"Year\"  and \"Cost\" on the y-axis. There should be coloured lines per country and a legend attached. "
   ]
  },
  {
   "cell_type": "code",
   "execution_count": 11,
   "metadata": {
    "collapsed": false
   },
   "outputs": [
    {
     "data": {},
     "metadata": {},
     "output_type": "display_data"
    },
    {
     "data": {
      "image/png": "[encoded data removed]",
      "text/plain": [
       "plot without title"
      ]
     },
     "metadata": {},
     "output_type": "display_data"
    }
   ],
   "source": [
    "graph2 <- filter(oecd, Country %in% c('United States', 'Latvia', 'Chile', 'Turkey', 'France'))%>% select( Country, Year, Cost)\n",
    "ggplot(graph2, aes(x = Year , y = Cost, col=Country)) + geom_line()"
   ]
  },
  {
   "cell_type": "markdown",
   "metadata": {},
   "source": [
    "bovenstaand heb ik de landen Frankrijk, Letland, Turkije, VS en Chili gekozen en een grafiek van gemaakt. Uit het hele oecd dataframe heb ik de 5 landen gehaald mbv filter"
   ]
  },
  {
   "cell_type": "markdown",
   "metadata": {},
   "source": [
    "## Efficiency scores\n",
    "\n",
    "The last assignment is to compute simple effiency scores. We will use the year 2014 for all countries (i.e. the dataframe \"graph1\").\n",
    "Make a new dateframe called \"eff\" (using graph1). Please use the \"pipe\" to execute to following steps:\n",
    "Select all the variables except the NA's (hint: use na.omit) and create a new column called \"Ratio\" with mutate. Ratio is defined as \"Cost/LE\" (cost per output).\n",
    "Create a new column called \"Score\" with mutate. Score is the ratio per country divided by the lowest ratio in the dataframe.\n",
    "To complete this dataframe order the dataset using \"arrange\" based on score (i.e. lowest Score first).\n",
    "\n",
    "\n",
    "Finally make a bar chart using ggplot. Countries should be on the x-axis and \"Score\" on the y-axis. \n",
    "\n",
    "\n",
    "\n",
    "You can earn extra points if you are able to order the graph based on scores (lowest first, highest last), if you are able to make the x-axis readable, make the bar of the Netherlands red and the other bars blue and/or change the name of the y-axis to \"Efficiency scores according to [your name]\" \n",
    "\n",
    "\n",
    "The figure should like this:\n",
    "\n",
    "![My Figure](eff.png)"
   ]
  },
  {
   "cell_type": "code",
   "execution_count": 13,
   "metadata": {
    "collapsed": false
   },
   "outputs": [
    {
     "data": {
      "text/html": [
       "<table>\n",
       "<thead><tr><th scope=col>X</th><th scope=col>Country</th><th scope=col>Year</th><th scope=col>Cost</th><th scope=col>LE</th><th scope=col>Ratio</th><th scope=col>Score</th></tr></thead>\n",
       "<tbody>\n",
       "\t<tr><td>384            </td><td>United States  </td><td>2014           </td><td>9024.2064      </td><td>78.8           </td><td>114.52039      </td><td>0.1108515      </td></tr>\n",
       "\t<tr><td>351            </td><td>Switzerland    </td><td>2014           </td><td>6786.5657      </td><td>83.3           </td><td> 81.47138      </td><td>0.1558186      </td></tr>\n",
       "\t<tr><td>230            </td><td>Luxembourg     </td><td>2014           </td><td>6682.2370      </td><td>82.3           </td><td> 81.19365      </td><td>0.1563516      </td></tr>\n",
       "\t<tr><td>274            </td><td>Norway         </td><td>2014           </td><td>6080.9980      </td><td>82.2           </td><td> 73.97808      </td><td>0.1716016      </td></tr>\n",
       "\t<tr><td>252            </td><td>Netherlands    </td><td>2014           </td><td>5276.6003      </td><td>81.8           </td><td> 64.50612      </td><td>0.1967992      </td></tr>\n",
       "\t<tr><td>120            </td><td>Germany        </td><td>2014           </td><td>5119.2146      </td><td>81.2           </td><td> 63.04451      </td><td>0.2013618      </td></tr>\n",
       "\t<tr><td>340            </td><td>Sweden         </td><td>2014           </td><td>5065.1613      </td><td>82.3           </td><td> 61.54509      </td><td>0.2062675      </td></tr>\n",
       "\t<tr><td>164            </td><td>Ireland        </td><td>2014           </td><td>5001.3220      </td><td>81.4           </td><td> 61.44130      </td><td>0.2066160      </td></tr>\n",
       "\t<tr><td> 76            </td><td>Denmark        </td><td>2014           </td><td>4857.0285      </td><td>80.8           </td><td> 60.11174      </td><td>0.2111859      </td></tr>\n",
       "\t<tr><td> 21            </td><td>Austria        </td><td>2014           </td><td>4895.9992      </td><td>81.6           </td><td> 59.99999      </td><td>0.2115793      </td></tr>\n",
       "\t<tr><td> 32            </td><td>Belgium        </td><td>2014           </td><td>4522.0450      </td><td>81.4           </td><td> 55.55338      </td><td>0.2285145      </td></tr>\n",
       "\t<tr><td>109            </td><td>France         </td><td>2014           </td><td>4366.9864      </td><td>82.8           </td><td> 52.74138      </td><td>0.2406982      </td></tr>\n",
       "\t<tr><td> 10            </td><td>Australia      </td><td>2014           </td><td>4206.8516      </td><td>82.4           </td><td> 51.05402      </td><td>0.2486533      </td></tr>\n",
       "\t<tr><td>197            </td><td>Japan          </td><td>2014           </td><td>4152.3727      </td><td>83.7           </td><td> 49.61019      </td><td>0.2558901      </td></tr>\n",
       "\t<tr><td>373            </td><td>United Kingdom </td><td>2014           </td><td>3971.3940      </td><td>81.4           </td><td> 48.78862      </td><td>0.2601991      </td></tr>\n",
       "\t<tr><td> 98            </td><td>Finland        </td><td>2014           </td><td>3870.4000      </td><td>81.3           </td><td> 47.60640      </td><td>0.2666607      </td></tr>\n",
       "\t<tr><td>153            </td><td>Iceland        </td><td>2014           </td><td>3896.9251      </td><td>82.9           </td><td> 47.00754      </td><td>0.2700578      </td></tr>\n",
       "\t<tr><td>263            </td><td>New Zealand    </td><td>2014           </td><td>3537.2568      </td><td>81.6           </td><td> 43.34874      </td><td>0.2928518      </td></tr>\n",
       "\t<tr><td>186            </td><td>Italy          </td><td>2014           </td><td>3206.8286      </td><td>83.2           </td><td> 38.54361      </td><td>0.3293608      </td></tr>\n",
       "\t<tr><td>329            </td><td>Spain          </td><td>2014           </td><td>3053.0745      </td><td>83.3           </td><td> 36.65155      </td><td>0.3463633      </td></tr>\n",
       "\t<tr><td>318            </td><td>Slovenia       </td><td>2014           </td><td>2598.9066      </td><td>81.2           </td><td> 32.00624      </td><td>0.3966337      </td></tr>\n",
       "\t<tr><td>296            </td><td>Portugal       </td><td>2014           </td><td>2583.8438      </td><td>81.2           </td><td> 31.82074      </td><td>0.3989459      </td></tr>\n",
       "\t<tr><td>175            </td><td>Israel         </td><td>2014           </td><td>2547.4010      </td><td>82.2           </td><td> 30.99028      </td><td>0.4096366      </td></tr>\n",
       "\t<tr><td> 65            </td><td>Czech Republic </td><td>2014           </td><td>2386.3385      </td><td>78.9           </td><td> 30.24510      </td><td>0.4197293      </td></tr>\n",
       "\t<tr><td>208            </td><td>Korea          </td><td>2014           </td><td>2361.4400      </td><td>82.2           </td><td> 28.72798      </td><td>0.4418951      </td></tr>\n",
       "\t<tr><td>131            </td><td>Greece         </td><td>2014           </td><td>2220.1065      </td><td>81.5           </td><td> 27.24057      </td><td>0.4660238      </td></tr>\n",
       "\t<tr><td>307            </td><td>Slovak Republic</td><td>2014           </td><td>1970.5230      </td><td>76.9           </td><td> 25.62449      </td><td>0.4954150      </td></tr>\n",
       "\t<tr><td>142            </td><td>Hungary        </td><td>2014           </td><td>1796.6034      </td><td>75.9           </td><td> 23.67066      </td><td>0.5363075      </td></tr>\n",
       "\t<tr><td> 87            </td><td>Estonia        </td><td>2014           </td><td>1724.5100      </td><td>77.2           </td><td> 22.33821      </td><td>0.5682977      </td></tr>\n",
       "\t<tr><td> 54            </td><td>Chile          </td><td>2014           </td><td>1688.5233      </td><td>79.0           </td><td> 21.37371      </td><td>0.5939424      </td></tr>\n",
       "\t<tr><td>285            </td><td>Poland         </td><td>2014           </td><td>1624.8655      </td><td>77.7           </td><td> 20.91204      </td><td>0.6070548      </td></tr>\n",
       "\t<tr><td>219            </td><td>Latvia         </td><td>2014           </td><td>1295.0128      </td><td>74.3           </td><td> 17.42951      </td><td>0.7283482      </td></tr>\n",
       "\t<tr><td>241            </td><td>Mexico         </td><td>2014           </td><td>1035.3389      </td><td>74.8           </td><td> 13.84143      </td><td>0.9171563      </td></tr>\n",
       "\t<tr><td>362            </td><td>Turkey         </td><td>2014           </td><td> 990.1908      </td><td>78.0           </td><td> 12.69475      </td><td>1.0000000      </td></tr>\n",
       "</tbody>\n",
       "</table>\n"
      ],
      "text/latex": [
       "\\begin{tabular}{r|lllllll}\n",
       " X & Country & Year & Cost & LE & Ratio & Score\\\\\n",
       "\\hline\n",
       "\t 384             & United States   & 2014            & 9024.2064       & 78.8            & 114.52039       & 0.1108515      \\\\\n",
       "\t 351             & Switzerland     & 2014            & 6786.5657       & 83.3            &  81.47138       & 0.1558186      \\\\\n",
       "\t 230             & Luxembourg      & 2014            & 6682.2370       & 82.3            &  81.19365       & 0.1563516      \\\\\n",
       "\t 274             & Norway          & 2014            & 6080.9980       & 82.2            &  73.97808       & 0.1716016      \\\\\n",
       "\t 252             & Netherlands     & 2014            & 5276.6003       & 81.8            &  64.50612       & 0.1967992      \\\\\n",
       "\t 120             & Germany         & 2014            & 5119.2146       & 81.2            &  63.04451       & 0.2013618      \\\\\n",
       "\t 340             & Sweden          & 2014            & 5065.1613       & 82.3            &  61.54509       & 0.2062675      \\\\\n",
       "\t 164             & Ireland         & 2014            & 5001.3220       & 81.4            &  61.44130       & 0.2066160      \\\\\n",
       "\t  76             & Denmark         & 2014            & 4857.0285       & 80.8            &  60.11174       & 0.2111859      \\\\\n",
       "\t  21             & Austria         & 2014            & 4895.9992       & 81.6            &  59.99999       & 0.2115793      \\\\\n",
       "\t  32             & Belgium         & 2014            & 4522.0450       & 81.4            &  55.55338       & 0.2285145      \\\\\n",
       "\t 109             & France          & 2014            & 4366.9864       & 82.8            &  52.74138       & 0.2406982      \\\\\n",
       "\t  10             & Australia       & 2014            & 4206.8516       & 82.4            &  51.05402       & 0.2486533      \\\\\n",
       "\t 197             & Japan           & 2014            & 4152.3727       & 83.7            &  49.61019       & 0.2558901      \\\\\n",
       "\t 373             & United Kingdom  & 2014            & 3971.3940       & 81.4            &  48.78862       & 0.2601991      \\\\\n",
       "\t  98             & Finland         & 2014            & 3870.4000       & 81.3            &  47.60640       & 0.2666607      \\\\\n",
       "\t 153             & Iceland         & 2014            & 3896.9251       & 82.9            &  47.00754       & 0.2700578      \\\\\n",
       "\t 263             & New Zealand     & 2014            & 3537.2568       & 81.6            &  43.34874       & 0.2928518      \\\\\n",
       "\t 186             & Italy           & 2014            & 3206.8286       & 83.2            &  38.54361       & 0.3293608      \\\\\n",
       "\t 329             & Spain           & 2014            & 3053.0745       & 83.3            &  36.65155       & 0.3463633      \\\\\n",
       "\t 318             & Slovenia        & 2014            & 2598.9066       & 81.2            &  32.00624       & 0.3966337      \\\\\n",
       "\t 296             & Portugal        & 2014            & 2583.8438       & 81.2            &  31.82074       & 0.3989459      \\\\\n",
       "\t 175             & Israel          & 2014            & 2547.4010       & 82.2            &  30.99028       & 0.4096366      \\\\\n",
       "\t  65             & Czech Republic  & 2014            & 2386.3385       & 78.9            &  30.24510       & 0.4197293      \\\\\n",
       "\t 208             & Korea           & 2014            & 2361.4400       & 82.2            &  28.72798       & 0.4418951      \\\\\n",
       "\t 131             & Greece          & 2014            & 2220.1065       & 81.5            &  27.24057       & 0.4660238      \\\\\n",
       "\t 307             & Slovak Republic & 2014            & 1970.5230       & 76.9            &  25.62449       & 0.4954150      \\\\\n",
       "\t 142             & Hungary         & 2014            & 1796.6034       & 75.9            &  23.67066       & 0.5363075      \\\\\n",
       "\t  87             & Estonia         & 2014            & 1724.5100       & 77.2            &  22.33821       & 0.5682977      \\\\\n",
       "\t  54             & Chile           & 2014            & 1688.5233       & 79.0            &  21.37371       & 0.5939424      \\\\\n",
       "\t 285             & Poland          & 2014            & 1624.8655       & 77.7            &  20.91204       & 0.6070548      \\\\\n",
       "\t 219             & Latvia          & 2014            & 1295.0128       & 74.3            &  17.42951       & 0.7283482      \\\\\n",
       "\t 241             & Mexico          & 2014            & 1035.3389       & 74.8            &  13.84143       & 0.9171563      \\\\\n",
       "\t 362             & Turkey          & 2014            &  990.1908       & 78.0            &  12.69475       & 1.0000000      \\\\\n",
       "\\end{tabular}\n"
      ],
      "text/markdown": [
       "\n",
       "X | Country | Year | Cost | LE | Ratio | Score | \n",
       "|---|---|---|---|---|---|---|---|---|---|---|---|---|---|---|---|---|---|---|---|---|---|---|---|---|---|---|---|---|---|---|---|---|---|\n",
       "| 384             | United States   | 2014            | 9024.2064       | 78.8            | 114.52039       | 0.1108515       | \n",
       "| 351             | Switzerland     | 2014            | 6786.5657       | 83.3            |  81.47138       | 0.1558186       | \n",
       "| 230             | Luxembourg      | 2014            | 6682.2370       | 82.3            |  81.19365       | 0.1563516       | \n",
       "| 274             | Norway          | 2014            | 6080.9980       | 82.2            |  73.97808       | 0.1716016       | \n",
       "| 252             | Netherlands     | 2014            | 5276.6003       | 81.8            |  64.50612       | 0.1967992       | \n",
       "| 120             | Germany         | 2014            | 5119.2146       | 81.2            |  63.04451       | 0.2013618       | \n",
       "| 340             | Sweden          | 2014            | 5065.1613       | 82.3            |  61.54509       | 0.2062675       | \n",
       "| 164             | Ireland         | 2014            | 5001.3220       | 81.4            |  61.44130       | 0.2066160       | \n",
       "|  76             | Denmark         | 2014            | 4857.0285       | 80.8            |  60.11174       | 0.2111859       | \n",
       "|  21             | Austria         | 2014            | 4895.9992       | 81.6            |  59.99999       | 0.2115793       | \n",
       "|  32             | Belgium         | 2014            | 4522.0450       | 81.4            |  55.55338       | 0.2285145       | \n",
       "| 109             | France          | 2014            | 4366.9864       | 82.8            |  52.74138       | 0.2406982       | \n",
       "|  10             | Australia       | 2014            | 4206.8516       | 82.4            |  51.05402       | 0.2486533       | \n",
       "| 197             | Japan           | 2014            | 4152.3727       | 83.7            |  49.61019       | 0.2558901       | \n",
       "| 373             | United Kingdom  | 2014            | 3971.3940       | 81.4            |  48.78862       | 0.2601991       | \n",
       "|  98             | Finland         | 2014            | 3870.4000       | 81.3            |  47.60640       | 0.2666607       | \n",
       "| 153             | Iceland         | 2014            | 3896.9251       | 82.9            |  47.00754       | 0.2700578       | \n",
       "| 263             | New Zealand     | 2014            | 3537.2568       | 81.6            |  43.34874       | 0.2928518       | \n",
       "| 186             | Italy           | 2014            | 3206.8286       | 83.2            |  38.54361       | 0.3293608       | \n",
       "| 329             | Spain           | 2014            | 3053.0745       | 83.3            |  36.65155       | 0.3463633       | \n",
       "| 318             | Slovenia        | 2014            | 2598.9066       | 81.2            |  32.00624       | 0.3966337       | \n",
       "| 296             | Portugal        | 2014            | 2583.8438       | 81.2            |  31.82074       | 0.3989459       | \n",
       "| 175             | Israel          | 2014            | 2547.4010       | 82.2            |  30.99028       | 0.4096366       | \n",
       "|  65             | Czech Republic  | 2014            | 2386.3385       | 78.9            |  30.24510       | 0.4197293       | \n",
       "| 208             | Korea           | 2014            | 2361.4400       | 82.2            |  28.72798       | 0.4418951       | \n",
       "| 131             | Greece          | 2014            | 2220.1065       | 81.5            |  27.24057       | 0.4660238       | \n",
       "| 307             | Slovak Republic | 2014            | 1970.5230       | 76.9            |  25.62449       | 0.4954150       | \n",
       "| 142             | Hungary         | 2014            | 1796.6034       | 75.9            |  23.67066       | 0.5363075       | \n",
       "|  87             | Estonia         | 2014            | 1724.5100       | 77.2            |  22.33821       | 0.5682977       | \n",
       "|  54             | Chile           | 2014            | 1688.5233       | 79.0            |  21.37371       | 0.5939424       | \n",
       "| 285             | Poland          | 2014            | 1624.8655       | 77.7            |  20.91204       | 0.6070548       | \n",
       "| 219             | Latvia          | 2014            | 1295.0128       | 74.3            |  17.42951       | 0.7283482       | \n",
       "| 241             | Mexico          | 2014            | 1035.3389       | 74.8            |  13.84143       | 0.9171563       | \n",
       "| 362             | Turkey          | 2014            |  990.1908       | 78.0            |  12.69475       | 1.0000000       | \n",
       "\n",
       "\n"
      ],
      "text/plain": [
       "   X   Country         Year Cost      LE   Ratio     Score    \n",
       "1  384 United States   2014 9024.2064 78.8 114.52039 0.1108515\n",
       "2  351 Switzerland     2014 6786.5657 83.3  81.47138 0.1558186\n",
       "3  230 Luxembourg      2014 6682.2370 82.3  81.19365 0.1563516\n",
       "4  274 Norway          2014 6080.9980 82.2  73.97808 0.1716016\n",
       "5  252 Netherlands     2014 5276.6003 81.8  64.50612 0.1967992\n",
       "6  120 Germany         2014 5119.2146 81.2  63.04451 0.2013618\n",
       "7  340 Sweden          2014 5065.1613 82.3  61.54509 0.2062675\n",
       "8  164 Ireland         2014 5001.3220 81.4  61.44130 0.2066160\n",
       "9   76 Denmark         2014 4857.0285 80.8  60.11174 0.2111859\n",
       "10  21 Austria         2014 4895.9992 81.6  59.99999 0.2115793\n",
       "11  32 Belgium         2014 4522.0450 81.4  55.55338 0.2285145\n",
       "12 109 France          2014 4366.9864 82.8  52.74138 0.2406982\n",
       "13  10 Australia       2014 4206.8516 82.4  51.05402 0.2486533\n",
       "14 197 Japan           2014 4152.3727 83.7  49.61019 0.2558901\n",
       "15 373 United Kingdom  2014 3971.3940 81.4  48.78862 0.2601991\n",
       "16  98 Finland         2014 3870.4000 81.3  47.60640 0.2666607\n",
       "17 153 Iceland         2014 3896.9251 82.9  47.00754 0.2700578\n",
       "18 263 New Zealand     2014 3537.2568 81.6  43.34874 0.2928518\n",
       "19 186 Italy           2014 3206.8286 83.2  38.54361 0.3293608\n",
       "20 329 Spain           2014 3053.0745 83.3  36.65155 0.3463633\n",
       "21 318 Slovenia        2014 2598.9066 81.2  32.00624 0.3966337\n",
       "22 296 Portugal        2014 2583.8438 81.2  31.82074 0.3989459\n",
       "23 175 Israel          2014 2547.4010 82.2  30.99028 0.4096366\n",
       "24  65 Czech Republic  2014 2386.3385 78.9  30.24510 0.4197293\n",
       "25 208 Korea           2014 2361.4400 82.2  28.72798 0.4418951\n",
       "26 131 Greece          2014 2220.1065 81.5  27.24057 0.4660238\n",
       "27 307 Slovak Republic 2014 1970.5230 76.9  25.62449 0.4954150\n",
       "28 142 Hungary         2014 1796.6034 75.9  23.67066 0.5363075\n",
       "29  87 Estonia         2014 1724.5100 77.2  22.33821 0.5682977\n",
       "30  54 Chile           2014 1688.5233 79.0  21.37371 0.5939424\n",
       "31 285 Poland          2014 1624.8655 77.7  20.91204 0.6070548\n",
       "32 219 Latvia          2014 1295.0128 74.3  17.42951 0.7283482\n",
       "33 241 Mexico          2014 1035.3389 74.8  13.84143 0.9171563\n",
       "34 362 Turkey          2014  990.1908 78.0  12.69475 1.0000000"
      ]
     },
     "metadata": {},
     "output_type": "display_data"
    }
   ],
   "source": [
    "eff <- graph1 %>%\n",
    "    filter(!is.na(LE)) %>%\n",
    "    mutate(Ratio = Cost / LE) %>%\n",
    "    mutate(Score = min(Ratio) / Ratio) %>%\n",
    "    arrange(Score)\n",
    "\n",
    "eff"
   ]
  },
  {
   "cell_type": "markdown",
   "metadata": {},
   "source": [
    "ik heb de scores van laag naar hoog gezet voor de bonus. "
   ]
  },
  {
   "cell_type": "code",
   "execution_count": 16,
   "metadata": {
    "collapsed": false
   },
   "outputs": [
    {
     "data": {},
     "metadata": {},
     "output_type": "display_data"
    },
    {
     "data": {
      "image/png": "[encoded data removed]",
      "text/plain": [
       "plot without title"
      ]
     },
     "metadata": {},
     "output_type": "display_data"
    }
   ],
   "source": [
    "eff.bar <- ggplot(eff, aes(x = reorder(Country,Score), y = Score, fill= Country)) +\n",
    "        geom_bar(stat = \"identity\") +\n",
    "        theme(text = element_text(size=12), axis.text.x = element_text(angle = 45, hjust = 1))+\n",
    "        scale_fill_manual(values = c(rep(\"blue\",21),rep(\"red\",1),rep(\"blue\",12))) +\n",
    "        guides(fill=FALSE) +\n",
    "        xlab(\"Country\") +\n",
    "        ylab(\"Efficiency scores according to Gianno van Well\")\n",
    "\n",
    "eff.bar"
   ]
  },
  {
   "cell_type": "markdown",
   "metadata": {
    "collapsed": true
   },
   "source": [
    "Ik heb de gegevens ingevoerd om de bar chart te maken. Vervolgens heb ik eff.bar getypt om de barchart ook in beeld te krijgen. Op de y-as heb ik, zoals gevraagd, de Efficiency scores according to Gianno van Well gezet."
   ]
  },
  {
   "cell_type": "code",
   "execution_count": null,
   "metadata": {
    "collapsed": true
   },
   "outputs": [],
   "source": []
  }
 ],
 "metadata": {
  "anaconda-cloud": {},
  "kernelspec": {
   "display_name": "R",
   "language": "R",
   "name": "ir"
  },
  "language_info": {
   "codemirror_mode": "r",
   "file_extension": ".r",
   "mimetype": "text/x-r-source",
   "name": "R",
   "pygments_lexer": "r",
   "version": "3.3.2"
  }
 },
 "nbformat": 4,
 "nbformat_minor": 1
}
